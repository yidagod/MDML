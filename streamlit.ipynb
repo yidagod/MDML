{
 "cells": [
  {
   "cell_type": "code",
   "execution_count": null,
   "id": "19ac679c",
   "metadata": {},
   "outputs": [],
   "source": [
    "import os\n",
    "os.chdir(\"C:\\\\Users\\\\Administrator\")"
   ]
  },
  {
   "cell_type": "code",
   "execution_count": 10,
   "id": "da546dd8",
   "metadata": {},
   "outputs": [
    {
     "name": "stdout",
     "output_type": "stream",
     "text": [
      "Requirement already satisfied: econml in f:\\anaconda\\lib\\site-packages (0.14.1)\n",
      "Requirement already satisfied: scipy>1.4.0 in f:\\anaconda\\lib\\site-packages (from econml) (1.10.0)\n",
      "Requirement already satisfied: numpy in f:\\anaconda\\lib\\site-packages (from econml) (1.23.5)\n",
      "Requirement already satisfied: sparse in f:\\anaconda\\lib\\site-packages (from econml) (0.14.0)\n",
      "Requirement already satisfied: pandas in f:\\anaconda\\lib\\site-packages (from econml) (2.2.3)\n",
      "Requirement already satisfied: scikit-learn<1.3,>0.22.0 in f:\\anaconda\\lib\\site-packages (from econml) (1.0.2)\n",
      "Requirement already satisfied: statsmodels>=0.10 in f:\\anaconda\\lib\\site-packages (from econml) (0.13.5)\n",
      "Requirement already satisfied: joblib>=0.13.0 in f:\\anaconda\\lib\\site-packages (from econml) (1.1.1)\n",
      "Requirement already satisfied: shap<0.42.0,>=0.38.1 in f:\\anaconda\\lib\\site-packages (from econml) (0.41.0)\n",
      "Requirement already satisfied: lightgbm in f:\\anaconda\\lib\\site-packages (from econml) (4.1.0)\n",
      "Requirement already satisfied: threadpoolctl>=2.0.0 in f:\\anaconda\\lib\\site-packages (from scikit-learn<1.3,>0.22.0->econml) (3.6.0)\n",
      "Requirement already satisfied: slicer==0.0.7 in f:\\anaconda\\lib\\site-packages (from shap<0.42.0,>=0.38.1->econml) (0.0.7)\n",
      "Requirement already satisfied: numba in f:\\anaconda\\lib\\site-packages (from shap<0.42.0,>=0.38.1->econml) (0.56.4)\n",
      "Requirement already satisfied: tqdm>4.25.0 in f:\\anaconda\\lib\\site-packages (from shap<0.42.0,>=0.38.1->econml) (4.64.1)\n",
      "Requirement already satisfied: cloudpickle in f:\\anaconda\\lib\\site-packages (from shap<0.42.0,>=0.38.1->econml) (2.0.0)\n",
      "Requirement already satisfied: packaging>20.9 in f:\\anaconda\\lib\\site-packages (from shap<0.42.0,>=0.38.1->econml) (22.0)\n",
      "Requirement already satisfied: patsy>=0.5.2 in f:\\anaconda\\lib\\site-packages (from statsmodels>=0.10->econml) (0.5.3)\n",
      "Requirement already satisfied: tzdata>=2022.7 in f:\\anaconda\\lib\\site-packages (from pandas->econml) (2025.2)\n",
      "Requirement already satisfied: pytz>=2020.1 in f:\\anaconda\\lib\\site-packages (from pandas->econml) (2022.7)\n",
      "Requirement already satisfied: python-dateutil>=2.8.2 in f:\\anaconda\\lib\\site-packages (from pandas->econml) (2.8.2)\n",
      "Requirement already satisfied: setuptools in f:\\anaconda\\lib\\site-packages (from numba->shap<0.42.0,>=0.38.1->econml) (68.2.2)\n",
      "Requirement already satisfied: llvmlite<0.40,>=0.39.0dev0 in f:\\anaconda\\lib\\site-packages (from numba->shap<0.42.0,>=0.38.1->econml) (0.39.1)\n",
      "Requirement already satisfied: six in f:\\anaconda\\lib\\site-packages (from patsy>=0.5.2->statsmodels>=0.10->econml) (1.16.0)\n",
      "Requirement already satisfied: colorama in f:\\anaconda\\lib\\site-packages (from tqdm>4.25.0->shap<0.42.0,>=0.38.1->econml) (0.4.6)\n",
      "Note: you may need to restart the kernel to use updated packages.\n"
     ]
    }
   ],
   "source": [
    "pip install econml --user"
   ]
  },
  {
   "cell_type": "code",
   "execution_count": 1,
   "id": "f81d9921",
   "metadata": {},
   "outputs": [
    {
     "name": "stderr",
     "output_type": "stream",
     "text": [
      "F:\\anaconda\\lib\\site-packages\\pandas\\core\\arrays\\masked.py:60: UserWarning: Pandas requires version '1.3.6' or newer of 'bottleneck' (version '1.3.5' currently installed).\n",
      "  from pandas.core import (\n"
     ]
    }
   ],
   "source": [
    "import streamlit as st\n",
    "import pandas as pd\n",
    "import numpy as np\n",
    "import xgboost as xgb\n",
    "import matplotlib.pyplot as plt\n",
    "import seaborn as sns\n",
    "from sklearn.model_selection import train_test_split\n",
    "from econml.dml import LinearDML\n",
    "from sklearn.ensemble import RandomForestRegressor\n",
    "from itertools import combinations"
   ]
  },
  {
   "cell_type": "code",
   "execution_count": 7,
   "id": "90b9defd",
   "metadata": {},
   "outputs": [
    {
     "name": "stderr",
     "output_type": "stream",
     "text": [
      "2025-04-22 19:05:09.595 WARNING streamlit.runtime.scriptrunner_utils.script_run_context: Thread 'MainThread': missing ScriptRunContext! This warning can be ignored when running in bare mode.\n",
      "2025-04-22 19:05:10.317 \n",
      "  \u001b[33m\u001b[1mWarning:\u001b[0m to view this Streamlit app on a browser, run it with the following\n",
      "  command:\n",
      "\n",
      "    streamlit run F:\\anaconda\\lib\\site-packages\\ipykernel_launcher.py [ARGUMENTS]\n",
      "2025-04-22 19:05:10.318 Thread 'MainThread': missing ScriptRunContext! This warning can be ignored when running in bare mode.\n",
      "2025-04-22 19:05:10.318 Thread 'MainThread': missing ScriptRunContext! This warning can be ignored when running in bare mode.\n",
      "2025-04-22 19:05:10.318 Thread 'MainThread': missing ScriptRunContext! This warning can be ignored when running in bare mode.\n",
      "2025-04-22 19:05:10.319 Thread 'MainThread': missing ScriptRunContext! This warning can be ignored when running in bare mode.\n",
      "2025-04-22 19:05:10.319 Thread 'MainThread': missing ScriptRunContext! This warning can be ignored when running in bare mode.\n",
      "2025-04-22 19:05:10.319 Thread 'MainThread': missing ScriptRunContext! This warning can be ignored when running in bare mode.\n"
     ]
    }
   ],
   "source": [
    "\n",
    "# 设置页面标题\n",
    "st.title(\"中老年人心血管发病风险全周期预测系统\")\n",
    "\n",
    "# 上传数据文件\n",
    "uploaded_file = st.file_uploader(\"上传数据文件\", type=[\"csv\", \"xlsx\"])\n",
    "if uploaded_file is not None:\n",
    "    # 读取数据\n",
    "    if uploaded_file.name.endswith(\".csv\"):\n",
    "        train_data = pd.read_csv(uploaded_file)\n",
    "    else:\n",
    "        train_data = pd.read_excel(uploaded_file)\n",
    "\n",
    "    # 显示数据\n",
    "    st.subheader(\"数据预览\")\n",
    "    st.write(train_data.head())\n",
    "\n",
    "    # 定义变量\n",
    "    T = train_data.iloc[:, 2:6]  # 假设第3-6列是处理变量\n",
    "    Y = train_data.iloc[:, 0]    # 假设第1列是目标变量\n",
    "    X = train_data.iloc[:, 6:]   # 假设第7列及以后是协变量\n",
    "\n",
    "    # 将数据集分为训练集和测试集\n",
    "    X_train, X_test, T_train, T_test, y_train, y_test = train_test_split(\n",
    "        X, T, Y, test_size=0.2, random_state=42\n",
    "    )\n",
    "\n",
    "    # 训练 XGBoost 模型用于预测发病风险\n",
    "    model_xgb = xgb.XGBRegressor(objective='reg:squarederror', random_state=42)\n",
    "    model_xgb.fit(X_train, y_train)\n",
    "\n",
    "    # 预测发病风险\n",
    "    st.subheader(\"预测发病风险\")\n",
    "    # 选择一个用户输入的功能来调整协变量\n",
    "    input_features = {}\n",
    "    for col in X.columns:\n",
    "        input_features[col] = st.number_input(f\"输入 {col}\", value=float(X[col].mean()))\n",
    "    \n",
    "    input_df = pd.DataFrame([input_features])\n",
    "    predicted_risk = model_xgb.predict(input_df)[0]\n",
    "    st.write(f\"预测的发病风险: {predicted_risk:.4f}\")\n",
    "\n",
    "    # 当前风险预测解释\n",
    "    st.write(\"当前风险是基于输入的协变量计算的。以下是各协变量的特征重要性：\")\n",
    "    fig, ax = plt.subplots()\n",
    "    xgb.plot_importance(model_xgb, ax=ax)\n",
    "    st.pyplot(fig)\n",
    "\n",
    "    # 因果效应估计部分\n",
    "    st.subheader(\"因果效应估计\")\n",
    "    # 定义 LinearDML 模型\n",
    "    dml = LinearDML(model_y=RandomForestRegressor(), model_t=RandomForestRegressor())\n",
    "    dml.fit(y_train, T_train, X=X_train.values)\n",
    "\n",
    "    # 预测因果效应\n",
    "    effects_dml = dml.effect(X_test.values)\n",
    "\n",
    "    # 打印平均因果效应\n",
    "    st.write(\"平均因果效应:\", effects_dml.mean())\n",
    "\n",
    "    # 可以修改处理变量，查看对发病风险的影响\n",
    "    st.subheader(\"调整处理变量查看效果\")\n",
    "    treatment_vars = T.columns.tolist()\n",
    "    for var in treatment_vars:\n",
    "        new_value = st.number_input(f\"调整 {var}\", value=float(T[var].mean()), key=var)\n",
    "        # 创建新的处理变量数据\n",
    "        new_T = T_train.copy()\n",
    "        new_T[var] = new_value\n",
    "        # 重新拟合模型并预测效应（简化版，实际应用中可能需要重新训练模型）\n",
    "        dml.fit(y_train, new_T, X=X_train.values)\n",
    "        new_effects = dml.effect(X_test.values)\n",
    "        st.write(f\"调整 {var} 后的平均因果效应: {new_effects.mean():.4f}\")\n",
    "\n",
    "    # 绘制变量组合的因果效应图\n",
    "    combination_effects = {}\n",
    "    num_treatments = T.shape[1]\n",
    "    for r in range(1, num_treatments + 1):\n",
    "        for combination in combinations(range(num_treatments), r):\n",
    "            combined_treatment = T_train.iloc[:, list(combination)].mean(axis=1)\n",
    "            dml.fit(y_train, combined_treatment, X=X_train.values)\n",
    "            effect = dml.effect(X_test.values)\n",
    "            combination_effects[f\"Combination {'+'.join(map(str, combination))}\"] = effect.mean()\n",
    "\n",
    "    effects_df = pd.DataFrame.from_dict(combination_effects, orient='index', columns=['Effect Value'])\n",
    "    plt.figure(figsize=(12, 8))\n",
    "    sns.barplot(x=effects_df.index, y='Effect Value', data=effects_df, palette='viridis')\n",
    "    plt.title('单独及组合处理变量的因果效应')\n",
    "    plt.xlabel('处理组合')\n",
    "    plt.ylabel('效应值')\n",
    "    plt.xticks(rotation=45)\n",
    "    st.pyplot(plt)\n",
    "\n",
    "    # 使用 XGBoost 模型进行解释和特征重要性\n",
    "    st.subheader(\"XGBoost 模型解释\")\n",
    "    # 绘制特征重要性\n",
    "    plt.figure(figsize=(10, 6))\n",
    "    xgb.plot_importance(model_xgb)\n",
    "    plt.title('XGBoost 特征重要性')\n",
    "    st.pyplot(plt)"
   ]
  },
  {
   "cell_type": "code",
   "execution_count": 2,
   "id": "4b60c4f8-7723-41ba-9928-ae93805ee04f",
   "metadata": {},
   "outputs": [
    {
     "name": "stderr",
     "output_type": "stream",
     "text": [
      "2025-04-22 18:39:32.744 WARNING streamlit.runtime.scriptrunner_utils.script_run_context: Thread 'MainThread': missing ScriptRunContext! This warning can be ignored when running in bare mode.\n",
      "2025-04-22 18:39:33.363 \n",
      "  \u001b[33m\u001b[1mWarning:\u001b[0m to view this Streamlit app on a browser, run it with the following\n",
      "  command:\n",
      "\n",
      "    streamlit run F:\\anaconda\\lib\\site-packages\\ipykernel_launcher.py [ARGUMENTS]\n",
      "2025-04-22 18:39:33.363 Thread 'MainThread': missing ScriptRunContext! This warning can be ignored when running in bare mode.\n",
      "2025-04-22 18:39:33.364 Thread 'MainThread': missing ScriptRunContext! This warning can be ignored when running in bare mode.\n",
      "2025-04-22 18:39:33.364 Thread 'MainThread': missing ScriptRunContext! This warning can be ignored when running in bare mode.\n",
      "2025-04-22 18:39:33.365 Thread 'MainThread': missing ScriptRunContext! This warning can be ignored when running in bare mode.\n",
      "2025-04-22 18:39:33.366 Thread 'MainThread': missing ScriptRunContext! This warning can be ignored when running in bare mode.\n",
      "2025-04-22 18:39:33.366 Thread 'MainThread': missing ScriptRunContext! This warning can be ignored when running in bare mode.\n"
     ]
    }
   ],
   "source": []
  },
  {
   "cell_type": "code",
   "execution_count": null,
   "id": "bfcb044d",
   "metadata": {},
   "outputs": [],
   "source": []
  }
 ],
 "metadata": {
  "kernelspec": {
   "display_name": "Python 3 (ipykernel)",
   "language": "python",
   "name": "python3"
  },
  "language_info": {
   "codemirror_mode": {
    "name": "ipython",
    "version": 3
   },
   "file_extension": ".py",
   "mimetype": "text/x-python",
   "name": "python",
   "nbconvert_exporter": "python",
   "pygments_lexer": "ipython3",
   "version": "3.10.9"
  }
 },
 "nbformat": 4,
 "nbformat_minor": 5
}
